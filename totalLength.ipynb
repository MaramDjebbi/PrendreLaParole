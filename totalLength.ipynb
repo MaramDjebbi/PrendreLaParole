{
 "cells": [
  {
   "cell_type": "markdown",
   "id": "7a2b8229",
   "metadata": {},
   "source": [
    "## Total legth of videos"
   ]
  },
  {
   "cell_type": "code",
   "execution_count": 5,
   "id": "a0c03a8e",
   "metadata": {},
   "outputs": [
    {
     "name": "stdout",
     "output_type": "stream",
     "text": [
      "Total duration: 208.44 seconds (3.47 minutes)\n"
     ]
    }
   ],
   "source": [
    "import os\n",
    "import cv2  # OpenCV\n",
    "\n",
    "\n",
    "base_path = \"/home/maram/Downloads/PrendreLaParole/PEDFE/newFPS\"\n",
    "emotions = [\"Disgust\",\"Happiness\", \"Fear\", \"Surprise\", \"Anger\",  \"Sadness\"]\n",
    "total_seconds = 0\n",
    "\n",
    "for emotion in emotions:\n",
    "    video_dir = os.path.join(base_path, emotion)\n",
    "    for filename in os.listdir(video_dir):\n",
    "        if filename.endswith(\".mp4\"):\n",
    "            video_path = os.path.join(video_dir, filename)\n",
    "            cap = cv2.VideoCapture(video_path)\n",
    "            if cap.isOpened():\n",
    "                fps = cap.get(cv2.CAP_PROP_FPS)\n",
    "                frame_count = cap.get(cv2.CAP_PROP_FRAME_COUNT)\n",
    "                duration = frame_count / fps\n",
    "                total_seconds += duration\n",
    "            cap.release()\n",
    "\n",
    "# Convert seconds to minutes if you want\n",
    "total_minutes = total_seconds / 60\n",
    "\n",
    "print(f\"Total duration: {total_seconds:.2f} seconds ({total_minutes:.2f} minutes)\")\n"
   ]
  }
 ],
 "metadata": {
  "kernelspec": {
   "display_name": "Python 3",
   "language": "python",
   "name": "python3"
  },
  "language_info": {
   "codemirror_mode": {
    "name": "ipython",
    "version": 3
   },
   "file_extension": ".py",
   "mimetype": "text/x-python",
   "name": "python",
   "nbconvert_exporter": "python",
   "pygments_lexer": "ipython3",
   "version": "3.10.12"
  }
 },
 "nbformat": 4,
 "nbformat_minor": 5
}
